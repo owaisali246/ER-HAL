{
 "cells": [
  {
   "cell_type": "markdown",
   "metadata": {
    "colab_type": "text",
    "id": "view-in-github"
   },
   "source": [
    "<a href=\"https://colab.research.google.com/drive/1nYY0DT5aE6owbfi_aXQf8nypDuIjvk8l#scrollTo=rk1xEshn9oRz\" target=\"_parent\"><img src=\"https://colab.research.google.com/assets/colab-badge.svg\" alt=\"Open In Colab\"/></a>"
   ]
  },
  {
   "cell_type": "code",
   "execution_count": null,
   "metadata": {
    "colab": {
     "base_uri": "https://localhost:8080/"
    },
    "id": "PVZExXNKJ14A",
    "outputId": "40b23b1f-b448-414b-8254-08290f29e6e7"
   },
   "outputs": [],
   "source": [
    "!git clone https://github.com/owaisali246/ER-HAL.git"
   ]
  },
  {
   "cell_type": "code",
   "execution_count": 7,
   "metadata": {},
   "outputs": [
    {
     "name": "stdout",
     "output_type": "stream",
     "text": [
      "[Errno 2] No such file or directory: 'ER-HAL'\n",
      "/home/owaisali246/VSC-Files/personal/ER-HAL\n"
     ]
    }
   ],
   "source": [
    "cd ER-HAL"
   ]
  },
  {
   "cell_type": "code",
   "execution_count": 8,
   "metadata": {},
   "outputs": [
    {
     "data": {
      "text/plain": [
       "'/home/owaisali246/VSC-Files/personal/ER-HAL'"
      ]
     },
     "execution_count": 8,
     "metadata": {},
     "output_type": "execute_result"
    }
   ],
   "source": [
    "pwd"
   ]
  },
  {
   "cell_type": "code",
   "execution_count": null,
   "metadata": {
    "colab": {
     "base_uri": "https://localhost:8080/"
    },
    "id": "vcqpMMjaKGjK",
    "outputId": "69518efd-c721-47c8-a7f5-0513d56f5901"
   },
   "outputs": [],
   "source": [
    "%pip install -r requirements.txt"
   ]
  },
  {
   "cell_type": "code",
   "execution_count": null,
   "metadata": {
    "colab": {
     "base_uri": "https://localhost:8080/"
    },
    "id": "1vdXwdlBkKJa",
    "outputId": "e783d1c3-77a5-449c-ce65-462b6d948862"
   },
   "outputs": [],
   "source": [
    "import nltk\n",
    "nltk.download('stopwords')"
   ]
  },
  {
   "cell_type": "code",
   "execution_count": null,
   "metadata": {
    "colab": {
     "base_uri": "https://localhost:8080/"
    },
    "id": "G3o3JeiHK1Wb",
    "outputId": "720d547c-917b-43a5-c8ad-cac7fe27044a"
   },
   "outputs": [],
   "source": [
    "!cat createFV/CTE.py"
   ]
  },
  {
   "cell_type": "code",
   "execution_count": null,
   "metadata": {},
   "outputs": [],
   "source": [
    "!cat cte.py"
   ]
  },
  {
   "cell_type": "code",
   "execution_count": null,
   "metadata": {
    "id": "lMesh2jdL3yC"
   },
   "outputs": [],
   "source": [
    "!python3 createFV/CTE.py"
   ]
  },
  {
   "cell_type": "code",
   "execution_count": null,
   "metadata": {},
   "outputs": [],
   "source": [
    "!python3 createFV/createFeatureVectorFile.py"
   ]
  },
  {
   "cell_type": "code",
   "execution_count": null,
   "metadata": {},
   "outputs": [],
   "source": [
    "!python3 main.py"
   ]
  },
  {
   "cell_type": "code",
   "execution_count": null,
   "metadata": {},
   "outputs": [],
   "source": [
    "import pandas as pd\n",
    "\n",
    "strategy = \"STQ\"  # \"DPQ\" or \"STQ\" update this according to strategy\n",
    "df = pd.read_csv(f\"result_graph/results_{strategy}.csv\")\n",
    "print(df.tail(1))"
   ]
  },
  {
   "cell_type": "code",
   "execution_count": null,
   "metadata": {},
   "outputs": [],
   "source": [
    "import matplotlib.pyplot as plt\n",
    "\n",
    "\n",
    "df = pd.read_csv(f\"result_graph/results_{strategy}.csv\")\n",
    "# Group by step (averaging across iterations)\n",
    "mean_df = df.groupby(\"step\")[[\"accuracy\", \"precision\", \"recall\", \"f1_score\"]].mean().reset_index()\n",
    "\n",
    "# Plot all metrics\n",
    "plt.figure(figsize=(10, 6))\n",
    "plt.plot(mean_df[\"step\"], mean_df[\"accuracy\"], label=\"Accuracy\", linewidth=2)\n",
    "plt.plot(mean_df[\"step\"], mean_df[\"precision\"], label=\"Precision\", linewidth=2)\n",
    "plt.plot(mean_df[\"step\"], mean_df[\"recall\"], label=\"Recall\", linewidth=2)\n",
    "plt.plot(mean_df[\"step\"], mean_df[\"f1_score\"], label=\"F1 Score\", linewidth=2)\n",
    "\n",
    "# Labels, title, legend\n",
    "plt.xlabel(\"Step\", fontsize=12)\n",
    "plt.ylabel(\"Score\", fontsize=12)\n",
    "plt.title(f\"Model Performance Over Steps: {strategy}\", fontsize=14)\n",
    "plt.legend()\n",
    "plt.grid(True, linestyle=\"--\", alpha=0.6)\n",
    "\n",
    "# Save and show\n",
    "plt.tight_layout()\n",
    "plt.show()\n"
   ]
  }
 ],
 "metadata": {
  "accelerator": "GPU",
  "colab": {
   "authorship_tag": "ABX9TyNXw2b0+O9qILVhfvLkgc2H",
   "gpuType": "T4",
   "include_colab_link": true,
   "provenance": []
  },
  "kernelspec": {
   "display_name": "venv",
   "language": "python",
   "name": "python3"
  },
  "language_info": {
   "codemirror_mode": {
    "name": "ipython",
    "version": 3
   },
   "file_extension": ".py",
   "mimetype": "text/x-python",
   "name": "python",
   "nbconvert_exporter": "python",
   "pygments_lexer": "ipython3",
   "version": "3.12.3"
  }
 },
 "nbformat": 4,
 "nbformat_minor": 0
}
